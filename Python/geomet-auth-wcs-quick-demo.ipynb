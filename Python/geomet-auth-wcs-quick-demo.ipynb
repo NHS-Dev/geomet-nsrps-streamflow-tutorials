{
 "cells": [
  {
   "cell_type": "markdown",
   "id": "b2bfeb70-97fb-4ebe-8d81-7a542c09edfd",
   "metadata": {},
   "source": [
    "# MSC Geomet - Using Authentication to Access Flow Predictions\n",
    "## Quick Demo - WCS\n",
    "\n",
    "This notebook is designed to quickly help users learn about user/password authentication on the Meteorological Service of Canada's (MSC) [GeoMet](https://eccc-msc.github.io/open-data/msc-geomet/readme_en/#msc-geomet \"MSC GeoMet Open Documentation\") platform, in order to access flow predictions. We can access the flow predictions through the web map service (WMS) and web coverage service (WCS) with Python. If you are unsure of which service to use, a general rule of thumb is that the <b style=\"color:Orange;\">web map service</b> is primarily used to retrieve <b style=\"color:Orange;\">geospatial images</b> and the <b style=\"color:Violet;\">web coverage service</b> is used to retrieve <b style=\"color:Violet;\">raw geospatial data</b>. This tutorial demonstrates examples using the <b style=\"color:Violet;\">web coverage service</b>. If you are new to these services we recommend later visiting the more comprehensive tutorials in this repository for accessing flow data with the WMS and WCS. "
   ]
  },
  {
   "cell_type": "markdown",
   "id": "32214c2f",
   "metadata": {},
   "source": [
    "## Table of Contents\n",
    "\n",
    "* [What pre-requistes do I need for this tutorial?](#What-pre-requistes-do-I-need-for-this-tutorial?)\n",
    "* [How do I get to GeoMet? How do I start retrieving data from GeoMet?](#How-do-I-get-to-GeoMet?-How-do-I-start-retrieving-data-from-GeoMet?)\n",
    "    * [Establish a connection to GeoMet](#Establish-a-connection-to-GeoMet)\n",
    "    * [Check what data is available](#Check-what-data-is-available)\n",
    "    * [Check what forecast times are available](#Check-what-forecast-times-are-available)\n",
    "    * [Making a simple request with WCS](#Making-a-simple-request-with-WCS)\n"
   ]
  },
  {
   "cell_type": "markdown",
   "id": "0b70c09a-2972-473a-af60-827ce45d4831",
   "metadata": {},
   "source": [
    "## What pre-requistes do I need for this tutorial?\n",
    "\n",
    "First, we import all necessary Python libraries.  The libraries needed are standard Python libraries. The library that we'll use to access GeoMet is a third-party library, [OWSLib](https://geopython.github.io/OWSLib/index.html \"OWSLib Documentation\"), which stands for the Open Geospatial Consortium (OGC) web service. [Xarray](https://docs.xarray.dev/en/stable/ \"xarray Documentation\") is another third party library that we recommend for handling the requested data."
   ]
  },
  {
   "cell_type": "code",
   "execution_count": 1,
   "id": "b4f3f7c7-4e0c-46f3-b13f-6287c15f69a1",
   "metadata": {},
   "outputs": [],
   "source": [
    "# data\n",
    "import warnings\n",
    "import re\n",
    "import time\n",
    "import configparser\n",
    "from datetime import datetime, timedelta\n",
    "from IPython.display import Image\n",
    "\n",
    "import xarray as xr\n",
    "\n",
    "# web map services \n",
    "from owslib.wms import WebMapService\n",
    "from owslib.wcs import WebCoverageService\n",
    "from owslib.wcs import Authentication"
   ]
  },
  {
   "cell_type": "markdown",
   "id": "8257e921-a6c9-40fa-abe2-bea3d067a4cc",
   "metadata": {},
   "source": [
    "To access the flow prediction from the user/password authenticated version of GeoMet, we need credentials. We can use the built-in configparser utility library, which reads a file with the following format:\n",
    "\n",
    "```\n",
    "[Login]\n",
    "Username = your_user_name \n",
    "Password = your_password\n",
    "```"
   ]
  },
  {
   "cell_type": "code",
   "execution_count": 2,
   "id": "70cbab7e-5fa2-4adb-98d4-1c8349f26a59",
   "metadata": {},
   "outputs": [],
   "source": [
    "config = configparser.ConfigParser()\n",
    "config.read_file(open('config.cfg'))\n",
    "\n",
    "login = config['Login']"
   ]
  },
  {
   "cell_type": "markdown",
   "id": "95af64ce-9bf0-42d9-b388-a0b160a11fbd",
   "metadata": {},
   "source": [
    "## How do I get to GeoMet? How do I start retrieving data from GeoMet?\n"
   ]
  },
  {
   "cell_type": "markdown",
   "id": "629f7148",
   "metadata": {},
   "source": [
    "When we want to get prediction data from GeoMet we will typically follow three steps:\n",
    "\n",
    "1. Establish a connection with the GeoMet server. GeoMet will send back a response if we connect successfully.\n",
    "2. Look \"under-the-hood\" of the GeoMet response to see what data is available* and for what times.\n",
    "3. Use our GeoMet connection that we made in step 1, to request the data we are interested in.\n",
    "\n",
    "*Step 2 is slightly different for authenticated data. We will highlight the differences below."
   ]
  },
  {
   "cell_type": "markdown",
   "id": "302d89ca",
   "metadata": {},
   "source": [
    "### Establish a connection to GeoMet"
   ]
  },
  {
   "cell_type": "code",
   "execution_count": 3,
   "id": "fbb906a2-5216-4358-a8dc-f03ffded0465",
   "metadata": {},
   "outputs": [],
   "source": [
    "# filter warnings or be prepared to see plenty\n",
    "warnings.filterwarnings('ignore', module='owslib', category=UserWarning)"
   ]
  },
  {
   "cell_type": "markdown",
   "id": "a07a2e12",
   "metadata": {},
   "source": [
    "We are going to first connect to the WMS to look at the data available and its metadata. Then, we will switch to the WCS to access the predictions."
   ]
  },
  {
   "cell_type": "code",
   "execution_count": 4,
   "id": "11400547",
   "metadata": {},
   "outputs": [],
   "source": [
    "# connect to the web map service\n",
    "wms = WebMapService(f'https://geo.weather.gc.ca/geomet?&SERVICE=WMS',\n",
    "                    version='1.3.0',\n",
    "                    timeout=300)"
   ]
  },
  {
   "cell_type": "markdown",
   "id": "f34d1ecd",
   "metadata": {},
   "source": [
    "### Check what data is available"
   ]
  },
  {
   "cell_type": "code",
   "execution_count": 5,
   "id": "5f5e2362",
   "metadata": {},
   "outputs": [
    {
     "name": "stdout",
     "output_type": "stream",
     "text": [
      "Canadian Weather\n",
      "ALERTS\n",
      "CURRENT_CONDITIONS\n",
      "METNOTES\n",
      "Regional Deterministic Prediction System (RDPS) [10 km]\n",
      "RDPS - Coupled to Gulf of St. Lawrence (RDPS-CGSL)\n",
      "CGSL.ETA_ICEC\n",
      "CGSL.ETA_ICEPRS\n",
      "CGSL.ETA_ICESTG\n",
      "CGSL.ETA_ICET\n",
      "CGSL.ETA_ICETK\n",
      "CGSL.ETA_UICE\n",
      "CGSL.ETA_UOGRD\n",
      "CGSL.ETA_UU\n",
      "CGSL.ETA_WTMP\n",
      "RDPS convective fields\n",
      "RDPS.CONV_KINDEX.PT3H\n",
      "RDPS.CONV_ML-CAPE\n",
      "RDPS.CONV_ML-CIN\n",
      "RDPS.CONV_ML-EL-HGT\n"
     ]
    }
   ],
   "source": [
    "# let's have a look at the first 20 data layers in the wms contents\n",
    "for key in list(wms.contents.keys())[0:20]:\n",
    "    print(key)"
   ]
  },
  {
   "cell_type": "markdown",
   "id": "3b3678a7",
   "metadata": {},
   "source": [
    "This list tells us what the layer names are available, but they aren't very descriptive. Let's print their titles instead."
   ]
  },
  {
   "cell_type": "code",
   "execution_count": 6,
   "id": "cbcde7f5",
   "metadata": {},
   "outputs": [
    {
     "name": "stdout",
     "output_type": "stream",
     "text": [
      "Canadian Weather\n",
      "Weather Alerts [experimental]\n",
      "Current Conditions\n",
      "MetNotes\n",
      "Regional Deterministic Prediction System (RDPS) [10 km]\n",
      "RDPS - Coupled to Gulf of St. Lawrence (RDPS-CGSL)\n",
      "CGSL.ETA.ICEC - Ice cover fraction\n",
      "CGSL.ETA.ICEPRS - Vertically integrated ice internal pressure (or stress) [N/m]\n",
      "CGSL.ETA.ICESTG - Vertically integrated compressive ice strength [N/m]\n",
      "CGSL.ETA.ICET - Ice surface temperature [K]\n",
      "CGSL.ETA.ICETK - Ice thickness [m]\n",
      "CGSL.ETA.UICE - Ice speed vector [m/s]\n",
      "CGSL.ETA.UOGRD - Surface ocean current [m/s]\n",
      "CGSL.ETA.UU - Wind at surface level [m/s]\n",
      "CGSL.ETA.WTMP - Water temperature [K]\n",
      "RDPS convective fields\n",
      "RDPS.CONV - Thunderstorm potential index George K (3 hourly forecast)\n",
      "RDPS.CONV - CAPE for a parcel representing the mean of a layer [J/kg]\n",
      "RDPS.CONV - CIN for a parcel representing the mean of a layer [J/kg]\n",
      "RDPS.CONV - Height of the equilibrium level for a parcel representing the mean of a layer [m AGL]\n"
     ]
    }
   ],
   "source": [
    "# let's have a look at the descriptive names\n",
    "for key in list(wms.contents.keys())[0:20]:\n",
    "    print(wms[key].title)"
   ]
  },
  {
   "cell_type": "markdown",
   "id": "e9d86f5d",
   "metadata": {},
   "source": [
    "Password protected data available on GeoMet will not appear in the lists above. The names of the layers are hidden by design. We must know the name of the hidden layer we are interested ahead of time. "
   ]
  },
  {
   "cell_type": "code",
   "execution_count": 15,
   "id": "6998e56e",
   "metadata": {},
   "outputs": [],
   "source": [
    "# for this example, let's have a look at DHPS streamflow\n",
    "layer_name = 'DHPS_1km_RiverDischarge'"
   ]
  },
  {
   "cell_type": "code",
   "execution_count": 9,
   "id": "7f50a071",
   "metadata": {},
   "outputs": [],
   "source": [
    "# re-establish a connection with GeoMet, this time specifying the layer and providing our \"login\" credentials\n",
    "wms_auth = WebMapService(f'https://geo.weather.gc.ca/geomet?&SERVICE=WMS&LAYERS={layer_name}',\n",
    "                        version='1.3.0',\n",
    "                        auth=Authentication(username=login['Username'], password=login['Password']),\n",
    "                        timeout=300)"
   ]
  },
  {
   "cell_type": "code",
   "execution_count": 10,
   "id": "6a87480e",
   "metadata": {},
   "outputs": [
    {
     "name": "stdout",
     "output_type": "stream",
     "text": [
      "Deterministic Hydrological Prediction System (DHPS) [1 km]\n",
      "DHPS\n",
      "DHPS_1km_RiverDischarge\n"
     ]
    }
   ],
   "source": [
    "for key in list(wms_auth.contents.keys()):\n",
    "    print(key)"
   ]
  },
  {
   "cell_type": "markdown",
   "id": "cff9a4a8",
   "metadata": {},
   "source": [
    "### Check what forecast times are available"
   ]
  },
  {
   "cell_type": "code",
   "execution_count": 11,
   "id": "98002e0f",
   "metadata": {},
   "outputs": [
    {
     "data": {
      "text/plain": [
       "{'time': {'units': 'ISO8601',\n",
       "  'default': '2022-06-21T12:00:00Z',\n",
       "  'nearestValue': '0',\n",
       "  'values': ['2022-06-21T01:00:00Z/2022-06-27T00:00:00Z/PT1H']},\n",
       " 'reference_time': {'units': 'ISO8601',\n",
       "  'default': '2022-06-21T00:00:00Z',\n",
       "  'multipleValues': '1',\n",
       "  'nearestValue': '0',\n",
       "  'values': ['2022-06-19T12:00:00Z/2022-06-21T00:00:00Z/PT12H']}}"
      ]
     },
     "execution_count": 11,
     "metadata": {},
     "output_type": "execute_result"
    }
   ],
   "source": [
    "wms_auth[layer_name].dimensions"
   ]
  },
  {
   "cell_type": "markdown",
   "id": "11220f13",
   "metadata": {},
   "source": [
    "<b>Reference time [ first available forecast issue / last available forecast issue / time between forecast issues ]</b>"
   ]
  },
  {
   "cell_type": "code",
   "execution_count": 16,
   "id": "f5b42024",
   "metadata": {},
   "outputs": [
    {
     "data": {
      "text/plain": [
       "['2022-06-19T12:00:00Z/2022-06-21T00:00:00Z/PT12H']"
      ]
     },
     "execution_count": 16,
     "metadata": {},
     "output_type": "execute_result"
    }
   ],
   "source": [
    "# storing the reference time information for our request below\n",
    "oldest_fcast, newest_fcast, issue_interval = wms_auth[layer_name].dimensions['reference_time']['values'][0].split('/')\n",
    "\n",
    "wms_auth[layer_name].dimensions['reference_time']['values']"
   ]
  },
  {
   "cell_type": "markdown",
   "id": "5cf5e005",
   "metadata": {},
   "source": [
    "<b>Time [ first time for most recent forecast / last time for most recent forecast / forecast timesteps ]</b>"
   ]
  },
  {
   "cell_type": "code",
   "execution_count": 19,
   "id": "66753582",
   "metadata": {},
   "outputs": [
    {
     "data": {
      "text/plain": [
       "['2022-06-21T01:00:00Z/2022-06-27T00:00:00Z/PT1H']"
      ]
     },
     "execution_count": 19,
     "metadata": {},
     "output_type": "execute_result"
    }
   ],
   "source": [
    "# storing the time information for our request below\n",
    "first_datetime, last_datetime, datetime_interval = wms_auth[layer_name].dimensions['time']['values'][0].split('/')\n",
    "\n",
    "wms_auth[layer_name].dimensions['time']['values']"
   ]
  },
  {
   "cell_type": "markdown",
   "id": "27198603",
   "metadata": {},
   "source": [
    "### Make a simple WCS request"
   ]
  },
  {
   "cell_type": "code",
   "execution_count": 17,
   "id": "4768f469",
   "metadata": {},
   "outputs": [],
   "source": [
    "layer_name = 'DHPS_1km_RiverDischarge'\n",
    "\n",
    "# connect to the WCS\n",
    "wcs_auth = WebCoverageService(f'https://geo.weather.gc.ca/geomet?&SERVICE=WCS&COVERAGEID={layer_name}', \n",
    "                        auth=Authentication(username=login['Username'], password=login['Password']),\n",
    "                        version='2.0.1',\n",
    "                        timeout=300\n",
    "                        )"
   ]
  },
  {
   "cell_type": "code",
   "execution_count": 20,
   "id": "b749ee75",
   "metadata": {},
   "outputs": [],
   "source": [
    "response = wcs_auth.getCoverage(identifier = [layer_name], \n",
    "                                format = 'image/netcdf', \n",
    "                                subsettingcrs = 'EPSG:4326', # default and recommended crs\n",
    "                                subsets = [('lat', 45.0, 46.0), ('lon', -70.0, -69.0)],\n",
    "                                DIM_REFERENCE_TIME=newest_fcast, # capitalization here is important\n",
    "                                TIME=first_datetime # capitalization here is important\n",
    "                               )"
   ]
  },
  {
   "cell_type": "code",
   "execution_count": 21,
   "id": "01190dbb",
   "metadata": {},
   "outputs": [
    {
     "data": {
      "text/plain": [
       "<bound method Dataset.head of <xarray.Dataset>\n",
       "Dimensions:  (lat: 120, lon: 120)\n",
       "Coordinates:\n",
       "  * lat      (lat) float64 45.0 45.01 45.02 45.03 ... 45.97 45.98 45.99 46.0\n",
       "  * lon      (lon) float64 -70.0 -69.99 -69.98 -69.97 ... -69.02 -69.01 -69.0\n",
       "Data variables:\n",
       "    Band1    (lat, lon) float32 nan nan nan nan nan nan ... nan nan nan nan nan\n",
       "Attributes:\n",
       "    GDAL_TIFFTAG_RESOLUTIONUNIT:  2\n",
       "    GDAL_TIFFTAG_XRESOLUTION:     72.0\n",
       "    GDAL_TIFFTAG_YRESOLUTION:     72.0\n",
       "    Conventions:                  CF-1.5\n",
       "    GDAL:                         GDAL 3.1.3, released 2020/09/01\n",
       "    history:                      Tue Jun 21 12:41:42 2022: GDAL CreateCopy( ...>"
      ]
     },
     "execution_count": 21,
     "metadata": {},
     "output_type": "execute_result"
    }
   ],
   "source": [
    "# read into an xarray\n",
    "ds = xr.open_dataset(response.read()).load()\n",
    "# print the header for the DataArray\n",
    "ds.head"
   ]
  }
 ],
 "metadata": {
  "kernelspec": {
   "display_name": "Python 3 (ipykernel)",
   "language": "python",
   "name": "python3"
  },
  "language_info": {
   "codemirror_mode": {
    "name": "ipython",
    "version": 3
   },
   "file_extension": ".py",
   "mimetype": "text/x-python",
   "name": "python",
   "nbconvert_exporter": "python",
   "pygments_lexer": "ipython3",
   "version": "3.9.7"
  }
 },
 "nbformat": 4,
 "nbformat_minor": 5
}
