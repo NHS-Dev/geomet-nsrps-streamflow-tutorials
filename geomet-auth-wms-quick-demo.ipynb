{
 "cells": [
  {
   "cell_type": "markdown",
   "id": "b2bfeb70-97fb-4ebe-8d81-7a542c09edfd",
   "metadata": {},
   "source": [
    "# MSC Geomet - Using Authentication to Access Flow Predictions\n",
    "## Quick Demo - WMS\n",
    "\n",
    "This notebook is designed to quickly help users learn about user/password authentication on the Meteorological Service of Canada's (MSC) [GeoMet](https://eccc-msc.github.io/open-data/msc-geomet/readme_en/#msc-geomet \"MSC GeoMet Open Documentation\") platform, in order to access flow predictions. We can access the flow predictions through the web map service (WMS) and web coverage service (WCS) with Python. If you are unsure of which service to use, a general rule of thumb is that the <b style=\"color:Orange;\">web map service</b> is primarily used to retrieve <b style=\"color:Orange;\">geospatial images</b> and the <b style=\"color:Violet;\">web coverage service</b> is used to retrieve <b style=\"color:Violet;\">raw geospatial data</b>. This tutorial demonstrates examples using the <b style=\"color:Orange;\">web map service</b>. If you are new to these services we recommend later visiting the more comprehensive tutorials in this repository for accessing flow data with the WMS and WCS. "
   ]
  },
  {
   "cell_type": "markdown",
   "id": "32214c2f",
   "metadata": {},
   "source": [
    "## Table of Contents\n",
    "\n",
    "* [What pre-requistes do I need for this tutorial?](#What-pre-requistes-do-I-need-for-this-tutorial?)\n",
    "* [How do I get to GeoMet? How do I start retrieving data from GeoMet?](#How-do-I-get-to-GeoMet?-How-do-I-start-retrieving-data-from-GeoMet?)\n",
    "    * [Establish a connection to GeoMet](#Establish-a-connection-to-GeoMet)\n",
    "    * [Check what data is available](#Check-what-data-is-available)\n",
    "    * [Making a simple request with WMS](#Making-a-simple-request-with-WMS)\n"
   ]
  },
  {
   "cell_type": "markdown",
   "id": "0b70c09a-2972-473a-af60-827ce45d4831",
   "metadata": {},
   "source": [
    "## What pre-requistes do I need for this tutorial?\n",
    "\n",
    "First, we import all necessary Python libraries.  The libraries needed are standard Python libraries. The library that we'll use to access GeoMet is a third-party library, [OWSLib](https://geopython.github.io/OWSLib/index.html \"OWSLib Documentation\"), which stands for the Open Geospatial Consortium (OGC) web service."
   ]
  },
  {
   "cell_type": "code",
   "execution_count": null,
   "id": "b4f3f7c7-4e0c-46f3-b13f-6287c15f69a1",
   "metadata": {},
   "outputs": [],
   "source": [
    "# data\n",
    "import warnings\n",
    "import re\n",
    "import time\n",
    "import configparser\n",
    "from datetime import datetime, timedelta\n",
    "from IPython.display import Image\n",
    "\n",
    "# web map services \n",
    "from owslib.wms import WebMapService\n",
    "from owslib.wcs import WebCoverageService\n",
    "from owslib.wcs import Authentication"
   ]
  },
  {
   "cell_type": "markdown",
   "id": "8257e921-a6c9-40fa-abe2-bea3d067a4cc",
   "metadata": {},
   "source": [
    "To access the flow prediction from the user/password authenticated version of GeoMet, we need credentials. We can use the built-in configparser utility library, which reads a file with the following format:\n",
    "\n",
    "```\n",
    "[Login]\n",
    "Username = your_user_name \n",
    "Password = your_password\n",
    "```"
   ]
  },
  {
   "cell_type": "code",
   "execution_count": null,
   "id": "70cbab7e-5fa2-4adb-98d4-1c8349f26a59",
   "metadata": {},
   "outputs": [],
   "source": [
    "config = configparser.ConfigParser()\n",
    "config.read_file(open('config.cfg'))\n",
    "\n",
    "login = config['Login']"
   ]
  },
  {
   "cell_type": "markdown",
   "id": "95af64ce-9bf0-42d9-b388-a0b160a11fbd",
   "metadata": {},
   "source": [
    "## How do I get to GeoMet? How do I start retrieving data from GeoMet?\n"
   ]
  },
  {
   "cell_type": "markdown",
   "id": "629f7148",
   "metadata": {},
   "source": [
    "When we want to get prediction data from GeoMet we will typically follow three steps:\n",
    "\n",
    "1. Establish a connection with the GeoMet server. GeoMet will send back a response if we connect successfully.\n",
    "2. Look \"under-the-hood\" of the GeoMet response to see what data is available* and for what times.\n",
    "3. Use our GeoMet connection that we made in step 1, to request the data we are interested in.\n",
    "\n",
    "*Step 2 is slightly different for authenticated data. We will highlight the differences below."
   ]
  },
  {
   "cell_type": "markdown",
   "id": "302d89ca",
   "metadata": {},
   "source": [
    "### Establish a connection to GeoMet"
   ]
  },
  {
   "cell_type": "code",
   "execution_count": null,
   "id": "fbb906a2-5216-4358-a8dc-f03ffded0465",
   "metadata": {},
   "outputs": [],
   "source": [
    "# filter warnings or be prepared to see plenty\n",
    "warnings.filterwarnings('ignore', module='owslib', category=UserWarning)"
   ]
  },
  {
   "cell_type": "code",
   "execution_count": null,
   "id": "11400547",
   "metadata": {},
   "outputs": [],
   "source": [
    "# connect to the web map service\n",
    "wms = WebMapService(f'https://geo.weather.gc.ca/geomet?&SERVICE=WMS',\n",
    "                    version='1.3.0',\n",
    "                    timeout=300)"
   ]
  },
  {
   "cell_type": "markdown",
   "id": "f34d1ecd",
   "metadata": {},
   "source": [
    "### Check what data is available"
   ]
  },
  {
   "cell_type": "code",
   "execution_count": null,
   "id": "5f5e2362",
   "metadata": {},
   "outputs": [],
   "source": [
    "# let's have a look at the first 20 data layers in the wms contents\n",
    "for key in list(wms.contents.keys())[0:20]:\n",
    "    print(key)"
   ]
  },
  {
   "cell_type": "markdown",
   "id": "3b3678a7",
   "metadata": {},
   "source": [
    "This list tells us what the layer names are available, but they aren't very descriptive. Let's print their titles instead."
   ]
  },
  {
   "cell_type": "code",
   "execution_count": null,
   "id": "cbcde7f5",
   "metadata": {},
   "outputs": [],
   "source": [
    "# let's have a look at the descriptive names\n",
    "for key in list(wms.contents.keys())[0:20]:\n",
    "    print(wms[key].title)"
   ]
  },
  {
   "cell_type": "markdown",
   "id": "e9d86f5d",
   "metadata": {},
   "source": [
    "Password protected data available on GeoMet will not appear in the lists above. The names of the layers are hidden by design. We must know the name of the hidden layer we are interested ahead of time. "
   ]
  },
  {
   "cell_type": "code",
   "execution_count": null,
   "id": "6998e56e",
   "metadata": {},
   "outputs": [],
   "source": [
    "# for this example, let's have a look at DHPS streamflow\n",
    "layer_name = 'DHPS_1km_RiverDischarge'"
   ]
  },
  {
   "cell_type": "code",
   "execution_count": null,
   "id": "7f50a071",
   "metadata": {},
   "outputs": [],
   "source": [
    "# re-establish a connection with GeoMet, this time specifying the layer and providing our \"login\" credentials\n",
    "wms_auth = WebMapService(f'https://geo.weather.gc.ca/geomet?&SERVICE=WMS&LAYERS={layer_name}',\n",
    "                        version='1.3.0',\n",
    "                        auth=Authentication(username=login['Username'], password=login['Password']),\n",
    "                        timeout=300)"
   ]
  },
  {
   "cell_type": "code",
   "execution_count": null,
   "id": "6a87480e",
   "metadata": {},
   "outputs": [],
   "source": [
    "for key in list(wms_auth.contents.keys()):\n",
    "    print(key)"
   ]
  },
  {
   "cell_type": "markdown",
   "id": "cff9a4a8",
   "metadata": {},
   "source": [
    "### Making a simple request with WMS"
   ]
  },
  {
   "cell_type": "code",
   "execution_count": null,
   "id": "98002e0f",
   "metadata": {},
   "outputs": [],
   "source": [
    "width = 500\n",
    "height = 400\n",
    "\n",
    "# example of how to get a map with specific extent covering eastern Ontario / southern Quebec\n",
    "response = wms_auth.getmap(layers=[layer_name],\n",
    "                          format='image/png',\n",
    "                          srs='EPSG:4326',\n",
    "                          styles=['RiverDischarge'], \n",
    "                          bbox=(-78, 42, -74, 47),\n",
    "                          size=(width, height),\n",
    "                          transparent=True)\n",
    "\n",
    "# show image\n",
    "Image(response.read(), width=width, height=height)"
   ]
  }
 ],
 "metadata": {
  "kernelspec": {
   "display_name": "Python 3 (ipykernel)",
   "language": "python",
   "name": "python3"
  },
  "language_info": {
   "codemirror_mode": {
    "name": "ipython",
    "version": 3
   },
   "file_extension": ".py",
   "mimetype": "text/x-python",
   "name": "python",
   "nbconvert_exporter": "python",
   "pygments_lexer": "ipython3",
   "version": "3.9.7"
  }
 },
 "nbformat": 4,
 "nbformat_minor": 5
}
